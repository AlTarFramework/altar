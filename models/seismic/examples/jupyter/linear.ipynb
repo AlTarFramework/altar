{
 "cells": [
  {
   "cell_type": "markdown",
   "metadata": {},
   "source": [
    "\n",
    "An example of Linear Application\n",
    "=================="
   ]
  },
  {
   "cell_type": "markdown",
   "metadata": {},
   "source": [
    "1. Create an AlTar application dedicated for Linear Model\n",
    "---------------------------------------------------------"
   ]
  },
  {
   "cell_type": "code",
   "execution_count": 5,
   "metadata": {},
   "outputs": [],
   "source": [
    "import altar\n",
    "import altar.models.linear\n",
    "\n",
    "# make a specialized app that uses this model by default\n",
    "class LinearApp(altar.shells.application, family='altar.applications.linear'):\n",
    "    \"\"\"\n",
    "    A specialized AlTar application that exercises the Linear model\n",
    "    \"\"\"\n",
    "    # user configurable state\n",
    "    model = altar.models.model(default='linear')"
   ]
  },
  {
   "cell_type": "markdown",
   "metadata": {},
   "source": [
    "2. Prepare a configuration file where you can specify the parameters of your application\n",
    "----------------------------------------------------------------------------------------\n",
    "\n",
    "`NAME.pfg`, where `NAME` is the name of your application instance.  For example, we use `linear.pfg`.  "
   ]
  },
  {
   "cell_type": "code",
   "execution_count": null,
   "metadata": {},
   "outputs": [],
   "source": [
    "; the linear app\n",
    "linear:\n",
    "    ; test case configuration\n",
    "    model:\n",
    "        ; the name of the test case\n",
    "        case = patch-9\n",
    "        ; the number of free parameters\n",
    "        parameters = 18\n",
    "        ; the number of observations\n",
    "        observations = 108\n",
    "\n",
    "        ; sample initializer\n",
    "        prep:\n",
    "            parameters = {linear.model.parameters}\n",
    "            sigma = 0.5\n",
    "\n",
    "        ; prior\n",
    "        prior:\n",
    "            parameters = {linear.model.parameters}\n",
    "            sigma = 0.5\n",
    "\n",
    "    ; shell\n",
    "    ; shell = mpi.shells.mpirun ; for running with mpi\n",
    "\n",
    "    ; run configuration\n",
    "    job.tasks = 1 ; number of tasks per host\n",
    "    job.gpus = 0  ; number of gpus per task\n",
    "    job.chains = 2**10 ; number of chains per task\n",
    "\n"
   ]
  },
  {
   "cell_type": "markdown",
   "metadata": {},
   "source": [
    "2. Create an instance of the above app\n",
    "--------------------------------------"
   ]
  },
  {
   "cell_type": "code",
   "execution_count": 6,
   "metadata": {},
   "outputs": [
    {
     "name": "stdout",
     "output_type": "stream",
     "text": [
      "altar: the app component 'linear', an instance of 'altar.applications.linear' is already registered\n"
     ]
    }
   ],
   "source": [
    "myapp = LinearApp(name='linear')"
   ]
  },
  {
   "cell_type": "markdown",
   "metadata": {},
   "source": []
  },
  {
   "cell_type": "code",
   "execution_count": 3,
   "metadata": {},
   "outputs": [],
   "source": [
    "model=myapp.model"
   ]
  },
  {
   "cell_type": "code",
   "execution_count": 4,
   "metadata": {},
   "outputs": [
    {
     "ename": "AttributeError",
     "evalue": "component 'linear.model', an instance of 'altar.models.linear' has no attribute 'name'",
     "output_type": "error",
     "traceback": [
      "\u001b[0;31m---------------------------------------------------------------------------\u001b[0m",
      "\u001b[0;31mAttributeError\u001b[0m                            Traceback (most recent call last)",
      "\u001b[0;32m<ipython-input-4-b89a51001ac1>\u001b[0m in \u001b[0;36m<module>\u001b[0;34m()\u001b[0m\n\u001b[0;32m----> 1\u001b[0;31m \u001b[0mmodel\u001b[0m\u001b[0;34m.\u001b[0m\u001b[0mname\u001b[0m\u001b[0;34m\u001b[0m\u001b[0m\n\u001b[0m",
      "\u001b[0;32m/home/ljzhu/tools/pyre/packages/pyre/components/Component.py\u001b[0m in \u001b[0;36m__getattr__\u001b[0;34m(self, name)\u001b[0m\n\u001b[1;32m    341\u001b[0m         \u001b[0;32mexcept\u001b[0m \u001b[0mKeyError\u001b[0m\u001b[0;34m:\u001b[0m\u001b[0;34m\u001b[0m\u001b[0m\n\u001b[1;32m    342\u001b[0m             \u001b[0;31m# get someone else to do the work\u001b[0m\u001b[0;34m\u001b[0m\u001b[0;34m\u001b[0m\u001b[0m\n\u001b[0;32m--> 343\u001b[0;31m             \u001b[0;32mraise\u001b[0m \u001b[0mAttributeError\u001b[0m\u001b[0;34m(\u001b[0m\u001b[0;34mf\"{self} has no attribute '{name}'\"\u001b[0m\u001b[0;34m)\u001b[0m \u001b[0;32mfrom\u001b[0m \u001b[0;32mNone\u001b[0m\u001b[0;34m\u001b[0m\u001b[0m\n\u001b[0m\u001b[1;32m    344\u001b[0m \u001b[0;34m\u001b[0m\u001b[0m\n\u001b[1;32m    345\u001b[0m         \u001b[0;31m# if the normalized name is the same as the original\u001b[0m\u001b[0;34m\u001b[0m\u001b[0;34m\u001b[0m\u001b[0m\n",
      "\u001b[0;31mAttributeError\u001b[0m: component 'linear.model', an instance of 'altar.models.linear' has no attribute 'name'"
     ]
    }
   ],
   "source": [
    "model."
   ]
  },
  {
   "cell_type": "code",
   "execution_count": null,
   "metadata": {},
   "outputs": [],
   "source": []
  }
 ],
 "metadata": {
  "kernelspec": {
   "display_name": "Python 3",
   "language": "python",
   "name": "python3"
  },
  "language_info": {
   "codemirror_mode": {
    "name": "ipython",
    "version": 3
   },
   "file_extension": ".py",
   "mimetype": "text/x-python",
   "name": "python",
   "nbconvert_exporter": "python",
   "pygments_lexer": "ipython3",
   "version": "3.6.6"
  }
 },
 "nbformat": 4,
 "nbformat_minor": 2
}
