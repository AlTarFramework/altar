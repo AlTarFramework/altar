{
 "cells": [
  {
   "cell_type": "markdown",
   "metadata": {},
   "source": [
    "An example of Linear Application\n",
    "=================="
   ]
  },
  {
   "cell_type": "markdown",
   "metadata": {},
   "source": [
    "Create a linear application\n",
    "-------------------------------"
   ]
  },
  {
   "cell_type": "code",
   "execution_count": 1,
   "metadata": {},
   "outputs": [],
   "source": [
    "import altar\n",
    "import altar.models.linear\n",
    "\n",
    "# make a specialized app that uses this model by default\n",
    "class Linear(altar.shells.application, family='altar.applications.linear'):\n",
    "    \"\"\"\n",
    "    A specialized AlTar application that exercises the Linear model\n",
    "    \"\"\"\n",
    "    # user configurable state\n",
    "    model = altar.models.model(default='linear')"
   ]
  }
 ],
 "metadata": {
  "kernelspec": {
   "display_name": "Python 3",
   "language": "python",
   "name": "python3"
  },
  "language_info": {
   "codemirror_mode": {
    "name": "ipython",
    "version": 3
   },
   "file_extension": ".py",
   "mimetype": "text/x-python",
   "name": "python",
   "nbconvert_exporter": "python",
   "pygments_lexer": "ipython3",
   "version": "3.6.6"
  }
 },
 "nbformat": 4,
 "nbformat_minor": 2
}
